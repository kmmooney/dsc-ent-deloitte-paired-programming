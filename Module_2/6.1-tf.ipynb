{
 "cells": [
  {
   "cell_type": "markdown",
   "metadata": {
    "nbgrader": {
     "grade": false,
     "grade_id": "cell-a405f9c797c90edb",
     "locked": true,
     "schema_version": 3,
     "solution": false,
     "task": false
    }
   },
   "source": [
    "# TensorFlow Checkpoint\n",
    "\n",
    "This assessment covers building and training a `tf.keras` `Sequential` model, then applying regularization.  The dataset comes from a [\"don't overfit\" Kaggle competition](https://www.kaggle.com/c/dont-overfit-ii).  There are 300 features labeled 0-299, and a binary target called \"target\".  There are only 250 records total, meaning this is a very small dataset to be used with a neural network. \n",
    "\n",
    "_You can assume that the dataset has already been scaled._\n",
    "\n",
    "N.B. You may get comments from keras/ternsorflow regarding your kernel and runtime. These are completely normal and are informative comments, rather than warnings."
   ]
  },
  {
   "cell_type": "code",
   "execution_count": 1,
   "metadata": {
    "ExecuteTime": {
     "end_time": "2020-11-04T16:46:28.793582Z",
     "start_time": "2020-11-04T16:46:24.326301Z"
    },
    "nbgrader": {
     "grade": false,
     "grade_id": "cell-4ab18aba8319e5bb",
     "locked": true,
     "schema_version": 3,
     "solution": false,
     "task": false
    }
   },
   "outputs": [],
   "source": [
    "# Run this cell without changes\n",
    "\n",
    "import matplotlib.pyplot as plt\n",
    "import seaborn as sns\n",
    "\n",
    "import numpy as np\n",
    "import pandas as pd\n",
    "from sklearn.metrics import accuracy_score\n",
    "from sklearn.model_selection import train_test_split\n",
    "\n",
    "import tensorflow as tf\n",
    "from tensorflow.keras import Sequential, regularizers\n",
    "from tensorflow.keras.layers import Dense, Dropout\n",
    "from tensorflow.keras.wrappers.scikit_learn import KerasClassifier"
   ]
  },
  {
   "cell_type": "markdown",
   "metadata": {
    "nbgrader": {
     "grade": false,
     "grade_id": "cell-c7b992c89bbf7019",
     "locked": true,
     "schema_version": 3,
     "solution": false,
     "task": false
    }
   },
   "source": [
    "## 1) Prepare Data for Modeling\n",
    "\n",
    "* Using `pandas`, open the file `data.csv` as a DataFrame\n",
    "* Drop the `\"id\"` column, since this is a unique identifier and not a feature\n",
    "* Separate the data into `X` (a DataFrame with all columns except `\"target\"`) and `y` (a Series with just the `\"target\"` column)\n",
    "* The train-test split should work as-is once you create these variables"
   ]
  },
  {
   "cell_type": "code",
   "execution_count": 3,
   "metadata": {
    "nbgrader": {
     "grade": false,
     "grade_id": "cell-d01723acad72a02e",
     "locked": false,
     "schema_version": 3,
     "solution": true,
     "task": false
    }
   },
   "outputs": [
    {
     "data": {
      "text/plain": [
       "(187, 300)"
      ]
     },
     "execution_count": 3,
     "metadata": {},
     "output_type": "execute_result"
    }
   ],
   "source": [
    "# Replace None with appropriate code\n",
    "\n",
    "# Read in the data\n",
    "df = pd.read_csv(\"data.csv\")\n",
    "\n",
    "# Drop the \"id\" column\n",
    "df.drop('id', inplace = True, axis = 1)\n",
    "\n",
    "# Separate into X and y\n",
    "X = df.drop('target', axis = 1)\n",
    "y = df['target']\n",
    "\n",
    "# Test/train split (set the random state to 2021) and check the X_Train shape\n",
    "X_train, X_test, y_train, y_test = train_test_split(X, y, random_state = 2021)\n",
    "\n",
    "X_train.shape"
   ]
  },
  {
   "cell_type": "code",
   "execution_count": 4,
   "metadata": {},
   "outputs": [],
   "source": [
    "# Run this code block without any changes\n",
    "\n",
    "# Assert\n",
    "\n",
    "assert type(df) == pd.DataFrame\n",
    "assert type(X) == pd.DataFrame\n",
    "assert type(y) == pd.Series\n",
    "\n",
    "assert X_train.shape == (187, 300)\n",
    "assert y_train.shape == (187,)"
   ]
  },
  {
   "cell_type": "markdown",
   "metadata": {
    "nbgrader": {
     "grade": false,
     "grade_id": "cell-2aa2425f887ac9b0",
     "locked": true,
     "schema_version": 3,
     "solution": false,
     "task": false
    }
   },
   "source": [
    "## 2) Instantiate a `Sequential` Model\n",
    "\n",
    "In the cell below, create an instance of a `Sequential` model ([documentation here](https://keras.io/guides/sequential_model/)) called `dense_model` with a `name` of `\"dense\"` and otherwise default arguments.\n",
    "\n",
    "*In other words, create a model without any layers. We will add layers in a future step.*"
   ]
  },
  {
   "cell_type": "code",
   "execution_count": 5,
   "metadata": {
    "nbgrader": {
     "grade": false,
     "grade_id": "cell-6c7980c4f4e802ae",
     "locked": false,
     "schema_version": 3,
     "solution": true,
     "task": false
    }
   },
   "outputs": [],
   "source": [
    "# Replace None with appropriate code\n",
    "\n",
    "dense_model = Sequential(name = 'dense')"
   ]
  },
  {
   "cell_type": "code",
   "execution_count": 6,
   "metadata": {
    "nbgrader": {
     "grade": true,
     "grade_id": "cell-4019299c1abee581",
     "locked": true,
     "points": 1,
     "schema_version": 3,
     "solution": false,
     "task": false
    }
   },
   "outputs": [],
   "source": [
    "# Run this code without change\n",
    "\n",
    "# Assert\n",
    "\n",
    "assert len(dense_model.layers) == 0\n",
    "assert type(dense_model) == Sequential\n",
    "assert dense_model.name == \"dense\"\n"
   ]
  },
  {
   "cell_type": "markdown",
   "metadata": {
    "nbgrader": {
     "grade": false,
     "grade_id": "cell-b777879670a57fbf",
     "locked": true,
     "schema_version": 3,
     "solution": false,
     "task": false
    }
   },
   "source": [
    "## 3) Determine Input and Output Shapes\n",
    "\n",
    "How many input and output nodes should this model have?\n",
    "\n",
    "Feel free to explore the attributes of `X` and `y` to determine this answer, or just to enter numbers based on the problem description above."
   ]
  },
  {
   "cell_type": "code",
   "execution_count": 7,
   "metadata": {
    "nbgrader": {
     "grade": false,
     "grade_id": "cell-63ba55e28070fbb7",
     "locked": false,
     "schema_version": 3,
     "solution": true,
     "task": false
    }
   },
   "outputs": [],
   "source": [
    "# Replace None with appropriate code\n",
    "\n",
    "num_input_nodes = 300\n",
    "num_output_nodes = 1"
   ]
  },
  {
   "cell_type": "code",
   "execution_count": 8,
   "metadata": {
    "nbgrader": {
     "grade": true,
     "grade_id": "cell-f10eae123c0da13e",
     "locked": true,
     "points": 1,
     "schema_version": 3,
     "solution": false,
     "task": false
    }
   },
   "outputs": [
    {
     "data": {
      "text/plain": [
       "1.0"
      ]
     },
     "execution_count": 8,
     "metadata": {},
     "output_type": "execute_result"
    }
   ],
   "source": [
    "# Run this code without change\n",
    "\n",
    "# Both values should be integers\n",
    "assert type(num_input_nodes) == int\n",
    "assert type(num_output_nodes) == int\n",
    "\n",
    "score = 0\n",
    "\n",
    "# 300 features, so 300 input nodes\n",
    "if num_input_nodes == 300:\n",
    "    score += 0.5\n",
    "    \n",
    "# binary output, so 1 output node\n",
    "if num_output_nodes == 1:\n",
    "    score += 0.5\n",
    "elif num_output_nodes == 2:\n",
    "    # Partial credit for this answer, since it's technically\n",
    "    # possible to use 2 output nodes for this, although it's\n",
    "    # confusingly redundant\n",
    "    score += 0.25\n",
    "\n",
    "score"
   ]
  },
  {
   "cell_type": "markdown",
   "metadata": {
    "nbgrader": {
     "grade": false,
     "grade_id": "cell-1a3c44e684a51352",
     "locked": true,
     "schema_version": 3,
     "solution": false,
     "task": false
    }
   },
   "source": [
    "The code below will use the input and output shapes you specified to add `Dense` layers to the model:"
   ]
  },
  {
   "cell_type": "code",
   "execution_count": 9,
   "metadata": {},
   "outputs": [
    {
     "data": {
      "text/plain": [
       "[<tensorflow.python.keras.layers.core.Dense at 0x2044e2387c0>,\n",
       " <tensorflow.python.keras.layers.core.Dense at 0x2044e238b50>,\n",
       " <tensorflow.python.keras.layers.core.Dense at 0x2044e830a60>]"
      ]
     },
     "execution_count": 9,
     "metadata": {},
     "output_type": "execute_result"
    }
   ],
   "source": [
    "# Run this cell without changes\n",
    "\n",
    "# Add input layer\n",
    "dense_model.add(Dense(units=64, input_shape=(num_input_nodes,)))\n",
    "\n",
    "# Add hidden layers\n",
    "dense_model.add(Dense(units=64))\n",
    "dense_model.add(Dense(units=64))\n",
    "\n",
    "dense_model.layers"
   ]
  },
  {
   "cell_type": "markdown",
   "metadata": {
    "nbgrader": {
     "grade": false,
     "grade_id": "cell-8505e21901e1e252",
     "locked": true,
     "schema_version": 3,
     "solution": false,
     "task": false
    }
   },
   "source": [
    "## 4) Add an Output Layer\n",
    "\n",
    "Specify an appropriate activation function ([documentation here](https://keras.io/api/layers/activations/)).\n",
    "\n",
    "We'll simplify the problem by specifying that you should use the string identifier for the function, and it should be one of these options:\n",
    "\n",
    "* `sigmoid`\n",
    "* `softmax`\n",
    "\n",
    "***Hint:*** is this a binary or a multi-class problem? This should guide your choice of activation function."
   ]
  },
  {
   "cell_type": "code",
   "execution_count": 10,
   "metadata": {
    "nbgrader": {
     "grade": false,
     "grade_id": "cell-0aeea3d8ccac319e",
     "locked": false,
     "schema_version": 3,
     "solution": true,
     "task": false
    }
   },
   "outputs": [],
   "source": [
    "# Replace None with appropriate code\n",
    "\n",
    "activation_function = 'sigmoid'"
   ]
  },
  {
   "cell_type": "code",
   "execution_count": 11,
   "metadata": {
    "nbgrader": {
     "grade": true,
     "grade_id": "cell-332525f03472a594",
     "locked": true,
     "points": 1,
     "schema_version": 3,
     "solution": false,
     "task": false
    }
   },
   "outputs": [],
   "source": [
    "# Run this cell without changes\n",
    "\n",
    "# activation_function should be a string\n",
    "assert type(activation_function) == str\n",
    "\n",
    "if num_output_nodes == 1:\n",
    "    assert activation_function == \"sigmoid\"\n",
    "else:\n",
    "    # The number of output nodes _should_ be 1, but we'll\n",
    "    # give credit for a matching function even if the\n",
    "    # previous answer was incorrect\n",
    "    assert activation_function == \"softmax\""
   ]
  },
  {
   "cell_type": "markdown",
   "metadata": {
    "nbgrader": {
     "grade": false,
     "grade_id": "cell-5c793011c6345392",
     "locked": true,
     "schema_version": 3,
     "solution": false,
     "task": false
    }
   },
   "source": [
    "Now we'll use that information to finalize the model.\n",
    "\n",
    "If this code produces an error, consider restarting the kernel and re-running the code above. If it still produces an error, that is an indication that one or more of your answers above is incorrect."
   ]
  },
  {
   "cell_type": "code",
   "execution_count": 12,
   "metadata": {
    "nbgrader": {
     "grade": false,
     "grade_id": "cell-e04042f44ccb24bb",
     "locked": true,
     "schema_version": 3,
     "solution": false,
     "task": false
    }
   },
   "outputs": [
    {
     "name": "stdout",
     "output_type": "stream",
     "text": [
      "Model: \"dense\"\n",
      "_________________________________________________________________\n",
      "Layer (type)                 Output Shape              Param #   \n",
      "=================================================================\n",
      "dense (Dense)                (None, 64)                19264     \n",
      "_________________________________________________________________\n",
      "dense_1 (Dense)              (None, 64)                4160      \n",
      "_________________________________________________________________\n",
      "dense_2 (Dense)              (None, 64)                4160      \n",
      "_________________________________________________________________\n",
      "dense_3 (Dense)              (None, 1)                 65        \n",
      "=================================================================\n",
      "Total params: 27,649\n",
      "Trainable params: 27,649\n",
      "Non-trainable params: 0\n",
      "_________________________________________________________________\n"
     ]
    }
   ],
   "source": [
    "# Run this cell without changes\n",
    "\n",
    "# Add output layer\n",
    "dense_model.add(Dense(units=num_output_nodes, activation=activation_function))\n",
    "\n",
    "# Determine appropriate loss function\n",
    "if num_output_nodes == 1:\n",
    "    loss = \"binary_crossentropy\"\n",
    "else:\n",
    "    loss = \"categorical_crossentropy\"\n",
    "\n",
    "# Compile model\n",
    "dense_model.compile(\n",
    "    optimizer=\"adam\",\n",
    "    loss=loss,\n",
    "    metrics=[\"accuracy\"]\n",
    ")\n",
    "\n",
    "dense_model.summary()"
   ]
  },
  {
   "cell_type": "code",
   "execution_count": 13,
   "metadata": {
    "nbgrader": {
     "grade": false,
     "grade_id": "cell-d54efbf306c08d85",
     "locked": true,
     "schema_version": 3,
     "solution": false,
     "task": false
    }
   },
   "outputs": [
    {
     "name": "stdout",
     "output_type": "stream",
     "text": [
      "Epoch 1/100\n",
      "6/6 [==============================] - 0s 65ms/step - loss: 1.0686 - accuracy: 0.5089 - val_loss: 0.8701 - val_accuracy: 0.4933\n",
      "Epoch 2/100\n",
      "6/6 [==============================] - 0s 24ms/step - loss: 0.4904 - accuracy: 0.7589 - val_loss: 0.8609 - val_accuracy: 0.4933\n",
      "Epoch 3/100\n",
      "6/6 [==============================] - 0s 18ms/step - loss: 0.3013 - accuracy: 0.9018 - val_loss: 0.8652 - val_accuracy: 0.5467\n",
      "Epoch 4/100\n",
      "6/6 [==============================] - 0s 11ms/step - loss: 0.1984 - accuracy: 0.9643 - val_loss: 0.8801 - val_accuracy: 0.5467\n",
      "Epoch 5/100\n",
      "6/6 [==============================] - 0s 7ms/step - loss: 0.1131 - accuracy: 0.9911 - val_loss: 0.9338 - val_accuracy: 0.5600\n",
      "Epoch 6/100\n",
      "6/6 [==============================] - 0s 8ms/step - loss: 0.0648 - accuracy: 1.0000 - val_loss: 1.0084 - val_accuracy: 0.6000\n",
      "Epoch 7/100\n",
      "6/6 [==============================] - 0s 7ms/step - loss: 0.0364 - accuracy: 1.0000 - val_loss: 1.0956 - val_accuracy: 0.6267\n",
      "Epoch 8/100\n",
      "6/6 [==============================] - 0s 12ms/step - loss: 0.0213 - accuracy: 1.0000 - val_loss: 1.1874 - val_accuracy: 0.6400\n",
      "Epoch 9/100\n",
      "6/6 [==============================] - 0s 9ms/step - loss: 0.0128 - accuracy: 1.0000 - val_loss: 1.2661 - val_accuracy: 0.6533\n",
      "Epoch 10/100\n",
      "6/6 [==============================] - 0s 11ms/step - loss: 0.0087 - accuracy: 1.0000 - val_loss: 1.3342 - val_accuracy: 0.6267\n",
      "Epoch 11/100\n",
      "6/6 [==============================] - 0s 12ms/step - loss: 0.0063 - accuracy: 1.0000 - val_loss: 1.3902 - val_accuracy: 0.6400\n",
      "Epoch 12/100\n",
      "6/6 [==============================] - 0s 14ms/step - loss: 0.0048 - accuracy: 1.0000 - val_loss: 1.4372 - val_accuracy: 0.6400\n",
      "Epoch 13/100\n",
      "6/6 [==============================] - 0s 10ms/step - loss: 0.0039 - accuracy: 1.0000 - val_loss: 1.4767 - val_accuracy: 0.6400\n",
      "Epoch 14/100\n",
      "6/6 [==============================] - 0s 9ms/step - loss: 0.0033 - accuracy: 1.0000 - val_loss: 1.5098 - val_accuracy: 0.6533\n",
      "Epoch 15/100\n",
      "6/6 [==============================] - 0s 11ms/step - loss: 0.0028 - accuracy: 1.0000 - val_loss: 1.5395 - val_accuracy: 0.6400\n",
      "Epoch 16/100\n",
      "6/6 [==============================] - 0s 8ms/step - loss: 0.0024 - accuracy: 1.0000 - val_loss: 1.5656 - val_accuracy: 0.6400\n",
      "Epoch 17/100\n",
      "6/6 [==============================] - 0s 14ms/step - loss: 0.0022 - accuracy: 1.0000 - val_loss: 1.5909 - val_accuracy: 0.6400\n",
      "Epoch 18/100\n",
      "6/6 [==============================] - 0s 7ms/step - loss: 0.0019 - accuracy: 1.0000 - val_loss: 1.6133 - val_accuracy: 0.6533\n",
      "Epoch 19/100\n",
      "6/6 [==============================] - 0s 8ms/step - loss: 0.0017 - accuracy: 1.0000 - val_loss: 1.6330 - val_accuracy: 0.6400\n",
      "Epoch 20/100\n",
      "6/6 [==============================] - 0s 9ms/step - loss: 0.0016 - accuracy: 1.0000 - val_loss: 1.6526 - val_accuracy: 0.6400\n",
      "Epoch 21/100\n",
      "6/6 [==============================] - 0s 12ms/step - loss: 0.0014 - accuracy: 1.0000 - val_loss: 1.6709 - val_accuracy: 0.6533\n",
      "Epoch 22/100\n",
      "6/6 [==============================] - 0s 8ms/step - loss: 0.0013 - accuracy: 1.0000 - val_loss: 1.6883 - val_accuracy: 0.6533\n",
      "Epoch 23/100\n",
      "6/6 [==============================] - 0s 11ms/step - loss: 0.0012 - accuracy: 1.0000 - val_loss: 1.7040 - val_accuracy: 0.6533\n",
      "Epoch 24/100\n",
      "6/6 [==============================] - 0s 11ms/step - loss: 0.0011 - accuracy: 1.0000 - val_loss: 1.7194 - val_accuracy: 0.6533\n",
      "Epoch 25/100\n",
      "6/6 [==============================] - 0s 11ms/step - loss: 0.0011 - accuracy: 1.0000 - val_loss: 1.7342 - val_accuracy: 0.6400\n",
      "Epoch 26/100\n",
      "6/6 [==============================] - 0s 9ms/step - loss: 9.8165e-04 - accuracy: 1.0000 - val_loss: 1.7488 - val_accuracy: 0.6400\n",
      "Epoch 27/100\n",
      "6/6 [==============================] - 0s 11ms/step - loss: 9.2082e-04 - accuracy: 1.0000 - val_loss: 1.7632 - val_accuracy: 0.6400\n",
      "Epoch 28/100\n",
      "6/6 [==============================] - 0s 13ms/step - loss: 8.5987e-04 - accuracy: 1.0000 - val_loss: 1.7764 - val_accuracy: 0.6533\n",
      "Epoch 29/100\n",
      "6/6 [==============================] - 0s 15ms/step - loss: 8.0677e-04 - accuracy: 1.0000 - val_loss: 1.7890 - val_accuracy: 0.6533\n",
      "Epoch 30/100\n",
      "6/6 [==============================] - 0s 16ms/step - loss: 7.5844e-04 - accuracy: 1.0000 - val_loss: 1.8012 - val_accuracy: 0.6533\n",
      "Epoch 31/100\n",
      "6/6 [==============================] - 0s 15ms/step - loss: 7.1733e-04 - accuracy: 1.0000 - val_loss: 1.8134 - val_accuracy: 0.6533\n",
      "Epoch 32/100\n",
      "6/6 [==============================] - 0s 18ms/step - loss: 6.7449e-04 - accuracy: 1.0000 - val_loss: 1.8251 - val_accuracy: 0.6533\n",
      "Epoch 33/100\n",
      "6/6 [==============================] - 0s 18ms/step - loss: 6.3929e-04 - accuracy: 1.0000 - val_loss: 1.8368 - val_accuracy: 0.6533\n",
      "Epoch 34/100\n",
      "6/6 [==============================] - 0s 17ms/step - loss: 6.0499e-04 - accuracy: 1.0000 - val_loss: 1.8487 - val_accuracy: 0.6533\n",
      "Epoch 35/100\n",
      "6/6 [==============================] - 0s 20ms/step - loss: 5.7254e-04 - accuracy: 1.0000 - val_loss: 1.8595 - val_accuracy: 0.6533\n",
      "Epoch 36/100\n",
      "6/6 [==============================] - 0s 10ms/step - loss: 5.4531e-04 - accuracy: 1.0000 - val_loss: 1.8702 - val_accuracy: 0.6533\n",
      "Epoch 37/100\n",
      "6/6 [==============================] - 0s 11ms/step - loss: 5.1729e-04 - accuracy: 1.0000 - val_loss: 1.8805 - val_accuracy: 0.6533\n",
      "Epoch 38/100\n",
      "6/6 [==============================] - 0s 9ms/step - loss: 4.9310e-04 - accuracy: 1.0000 - val_loss: 1.8901 - val_accuracy: 0.6533\n",
      "Epoch 39/100\n",
      "6/6 [==============================] - 0s 5ms/step - loss: 4.7148e-04 - accuracy: 1.0000 - val_loss: 1.8999 - val_accuracy: 0.6533\n",
      "Epoch 40/100\n",
      "6/6 [==============================] - 0s 6ms/step - loss: 4.4992e-04 - accuracy: 1.0000 - val_loss: 1.9097 - val_accuracy: 0.6400\n",
      "Epoch 41/100\n",
      "6/6 [==============================] - 0s 13ms/step - loss: 4.2983e-04 - accuracy: 1.0000 - val_loss: 1.9190 - val_accuracy: 0.6400\n",
      "Epoch 42/100\n",
      "6/6 [==============================] - 0s 15ms/step - loss: 4.1113e-04 - accuracy: 1.0000 - val_loss: 1.9279 - val_accuracy: 0.6400\n",
      "Epoch 43/100\n",
      "6/6 [==============================] - 0s 21ms/step - loss: 3.9415e-04 - accuracy: 1.0000 - val_loss: 1.9371 - val_accuracy: 0.6400\n",
      "Epoch 44/100\n",
      "6/6 [==============================] - 0s 14ms/step - loss: 3.7798e-04 - accuracy: 1.0000 - val_loss: 1.9463 - val_accuracy: 0.6400\n",
      "Epoch 45/100\n",
      "6/6 [==============================] - 0s 13ms/step - loss: 3.6229e-04 - accuracy: 1.0000 - val_loss: 1.9544 - val_accuracy: 0.6400\n",
      "Epoch 46/100\n",
      "6/6 [==============================] - 0s 18ms/step - loss: 3.4798e-04 - accuracy: 1.0000 - val_loss: 1.9633 - val_accuracy: 0.6400\n",
      "Epoch 47/100\n",
      "6/6 [==============================] - 0s 14ms/step - loss: 3.3461e-04 - accuracy: 1.0000 - val_loss: 1.9716 - val_accuracy: 0.6400\n",
      "Epoch 48/100\n",
      "6/6 [==============================] - 0s 13ms/step - loss: 3.2113e-04 - accuracy: 1.0000 - val_loss: 1.9797 - val_accuracy: 0.6400\n",
      "Epoch 49/100\n",
      "6/6 [==============================] - 0s 22ms/step - loss: 3.0993e-04 - accuracy: 1.0000 - val_loss: 1.9872 - val_accuracy: 0.6400\n",
      "Epoch 50/100\n",
      "6/6 [==============================] - 0s 11ms/step - loss: 2.9866e-04 - accuracy: 1.0000 - val_loss: 1.9955 - val_accuracy: 0.6400\n",
      "Epoch 51/100\n",
      "6/6 [==============================] - 0s 12ms/step - loss: 2.8728e-04 - accuracy: 1.0000 - val_loss: 2.0034 - val_accuracy: 0.6400\n",
      "Epoch 52/100\n",
      "6/6 [==============================] - 0s 8ms/step - loss: 2.7772e-04 - accuracy: 1.0000 - val_loss: 2.0113 - val_accuracy: 0.6400\n",
      "Epoch 53/100\n",
      "6/6 [==============================] - 0s 15ms/step - loss: 2.6729e-04 - accuracy: 1.0000 - val_loss: 2.0184 - val_accuracy: 0.6400\n",
      "Epoch 54/100\n",
      "6/6 [==============================] - 0s 9ms/step - loss: 2.5837e-04 - accuracy: 1.0000 - val_loss: 2.0255 - val_accuracy: 0.6400\n",
      "Epoch 55/100\n",
      "6/6 [==============================] - 0s 17ms/step - loss: 2.5000e-04 - accuracy: 1.0000 - val_loss: 2.0328 - val_accuracy: 0.6400\n",
      "Epoch 56/100\n",
      "6/6 [==============================] - 0s 13ms/step - loss: 2.4174e-04 - accuracy: 1.0000 - val_loss: 2.0394 - val_accuracy: 0.6400\n",
      "Epoch 57/100\n",
      "6/6 [==============================] - 0s 10ms/step - loss: 2.3404e-04 - accuracy: 1.0000 - val_loss: 2.0463 - val_accuracy: 0.6400\n",
      "Epoch 58/100\n"
     ]
    },
    {
     "name": "stdout",
     "output_type": "stream",
     "text": [
      "6/6 [==============================] - 0s 10ms/step - loss: 2.2639e-04 - accuracy: 1.0000 - val_loss: 2.0532 - val_accuracy: 0.6400\n",
      "Epoch 59/100\n",
      "6/6 [==============================] - 0s 14ms/step - loss: 2.1896e-04 - accuracy: 1.0000 - val_loss: 2.0600 - val_accuracy: 0.6400\n",
      "Epoch 60/100\n",
      "6/6 [==============================] - 0s 14ms/step - loss: 2.1240e-04 - accuracy: 1.0000 - val_loss: 2.0664 - val_accuracy: 0.6400\n",
      "Epoch 61/100\n",
      "6/6 [==============================] - 0s 14ms/step - loss: 2.0586e-04 - accuracy: 1.0000 - val_loss: 2.0732 - val_accuracy: 0.6400\n",
      "Epoch 62/100\n",
      "6/6 [==============================] - 0s 11ms/step - loss: 2.0001e-04 - accuracy: 1.0000 - val_loss: 2.0804 - val_accuracy: 0.6400\n",
      "Epoch 63/100\n",
      "6/6 [==============================] - 0s 12ms/step - loss: 1.9357e-04 - accuracy: 1.0000 - val_loss: 2.0868 - val_accuracy: 0.6400\n",
      "Epoch 64/100\n",
      "6/6 [==============================] - 0s 11ms/step - loss: 1.8852e-04 - accuracy: 1.0000 - val_loss: 2.0933 - val_accuracy: 0.6400\n",
      "Epoch 65/100\n",
      "6/6 [==============================] - 0s 11ms/step - loss: 1.8294e-04 - accuracy: 1.0000 - val_loss: 2.0994 - val_accuracy: 0.6400\n",
      "Epoch 66/100\n",
      "6/6 [==============================] - 0s 11ms/step - loss: 1.7783e-04 - accuracy: 1.0000 - val_loss: 2.1054 - val_accuracy: 0.6400\n",
      "Epoch 67/100\n",
      "6/6 [==============================] - 0s 10ms/step - loss: 1.7271e-04 - accuracy: 1.0000 - val_loss: 2.1111 - val_accuracy: 0.6400\n",
      "Epoch 68/100\n",
      "6/6 [==============================] - 0s 7ms/step - loss: 1.6805e-04 - accuracy: 1.0000 - val_loss: 2.1168 - val_accuracy: 0.6267\n",
      "Epoch 69/100\n",
      "6/6 [==============================] - 0s 7ms/step - loss: 1.6379e-04 - accuracy: 1.0000 - val_loss: 2.1231 - val_accuracy: 0.6267\n",
      "Epoch 70/100\n",
      "6/6 [==============================] - 0s 9ms/step - loss: 1.5933e-04 - accuracy: 1.0000 - val_loss: 2.1287 - val_accuracy: 0.6267\n",
      "Epoch 71/100\n",
      "6/6 [==============================] - 0s 9ms/step - loss: 1.5508e-04 - accuracy: 1.0000 - val_loss: 2.1343 - val_accuracy: 0.6267\n",
      "Epoch 72/100\n",
      "6/6 [==============================] - 0s 7ms/step - loss: 1.5096e-04 - accuracy: 1.0000 - val_loss: 2.1399 - val_accuracy: 0.6267\n",
      "Epoch 73/100\n",
      "6/6 [==============================] - 0s 9ms/step - loss: 1.4707e-04 - accuracy: 1.0000 - val_loss: 2.1454 - val_accuracy: 0.6267\n",
      "Epoch 74/100\n",
      "6/6 [==============================] - 0s 10ms/step - loss: 1.4339e-04 - accuracy: 1.0000 - val_loss: 2.1509 - val_accuracy: 0.6267\n",
      "Epoch 75/100\n",
      "6/6 [==============================] - 0s 12ms/step - loss: 1.3981e-04 - accuracy: 1.0000 - val_loss: 2.1564 - val_accuracy: 0.6267\n",
      "Epoch 76/100\n",
      "6/6 [==============================] - 0s 8ms/step - loss: 1.3646e-04 - accuracy: 1.0000 - val_loss: 2.1617 - val_accuracy: 0.6267\n",
      "Epoch 77/100\n",
      "6/6 [==============================] - 0s 16ms/step - loss: 1.3311e-04 - accuracy: 1.0000 - val_loss: 2.1667 - val_accuracy: 0.6267\n",
      "Epoch 78/100\n",
      "6/6 [==============================] - 0s 11ms/step - loss: 1.2987e-04 - accuracy: 1.0000 - val_loss: 2.1720 - val_accuracy: 0.6267\n",
      "Epoch 79/100\n",
      "6/6 [==============================] - 0s 8ms/step - loss: 1.2688e-04 - accuracy: 1.0000 - val_loss: 2.1769 - val_accuracy: 0.6267\n",
      "Epoch 80/100\n",
      "6/6 [==============================] - 0s 8ms/step - loss: 1.2387e-04 - accuracy: 1.0000 - val_loss: 2.1818 - val_accuracy: 0.6267\n",
      "Epoch 81/100\n",
      "6/6 [==============================] - 0s 10ms/step - loss: 1.2114e-04 - accuracy: 1.0000 - val_loss: 2.1867 - val_accuracy: 0.6267\n",
      "Epoch 82/100\n",
      "6/6 [==============================] - 0s 12ms/step - loss: 1.1840e-04 - accuracy: 1.0000 - val_loss: 2.1916 - val_accuracy: 0.6267\n",
      "Epoch 83/100\n",
      "6/6 [==============================] - 0s 10ms/step - loss: 1.1565e-04 - accuracy: 1.0000 - val_loss: 2.1963 - val_accuracy: 0.6267\n",
      "Epoch 84/100\n",
      "6/6 [==============================] - 0s 8ms/step - loss: 1.1310e-04 - accuracy: 1.0000 - val_loss: 2.2010 - val_accuracy: 0.6267\n",
      "Epoch 85/100\n",
      "6/6 [==============================] - 0s 17ms/step - loss: 1.1076e-04 - accuracy: 1.0000 - val_loss: 2.2060 - val_accuracy: 0.6267\n",
      "Epoch 86/100\n",
      "6/6 [==============================] - 0s 15ms/step - loss: 1.0815e-04 - accuracy: 1.0000 - val_loss: 2.2107 - val_accuracy: 0.6267\n",
      "Epoch 87/100\n",
      "6/6 [==============================] - 0s 12ms/step - loss: 1.0589e-04 - accuracy: 1.0000 - val_loss: 2.2155 - val_accuracy: 0.6267\n",
      "Epoch 88/100\n",
      "6/6 [==============================] - 0s 10ms/step - loss: 1.0364e-04 - accuracy: 1.0000 - val_loss: 2.2201 - val_accuracy: 0.6267\n",
      "Epoch 89/100\n",
      "6/6 [==============================] - 0s 8ms/step - loss: 1.0144e-04 - accuracy: 1.0000 - val_loss: 2.2248 - val_accuracy: 0.6267\n",
      "Epoch 90/100\n",
      "6/6 [==============================] - 0s 10ms/step - loss: 9.9252e-05 - accuracy: 1.0000 - val_loss: 2.2293 - val_accuracy: 0.6267\n",
      "Epoch 91/100\n",
      "6/6 [==============================] - 0s 8ms/step - loss: 9.7249e-05 - accuracy: 1.0000 - val_loss: 2.2338 - val_accuracy: 0.6267\n",
      "Epoch 92/100\n",
      "6/6 [==============================] - 0s 8ms/step - loss: 9.5318e-05 - accuracy: 1.0000 - val_loss: 2.2381 - val_accuracy: 0.6267\n",
      "Epoch 93/100\n",
      "6/6 [==============================] - 0s 8ms/step - loss: 9.3339e-05 - accuracy: 1.0000 - val_loss: 2.2426 - val_accuracy: 0.6267\n",
      "Epoch 94/100\n",
      "6/6 [==============================] - 0s 10ms/step - loss: 9.1373e-05 - accuracy: 1.0000 - val_loss: 2.2469 - val_accuracy: 0.6267\n",
      "Epoch 95/100\n",
      "6/6 [==============================] - 0s 11ms/step - loss: 8.9611e-05 - accuracy: 1.0000 - val_loss: 2.2511 - val_accuracy: 0.6267\n",
      "Epoch 96/100\n",
      "6/6 [==============================] - 0s 11ms/step - loss: 8.7886e-05 - accuracy: 1.0000 - val_loss: 2.2555 - val_accuracy: 0.6267\n",
      "Epoch 97/100\n",
      "6/6 [==============================] - 0s 11ms/step - loss: 8.6106e-05 - accuracy: 1.0000 - val_loss: 2.2596 - val_accuracy: 0.6267\n",
      "Epoch 98/100\n",
      "6/6 [==============================] - 0s 11ms/step - loss: 8.4497e-05 - accuracy: 1.0000 - val_loss: 2.2639 - val_accuracy: 0.6267\n",
      "Epoch 99/100\n",
      "6/6 [==============================] - 0s 7ms/step - loss: 8.2808e-05 - accuracy: 1.0000 - val_loss: 2.2683 - val_accuracy: 0.6267\n",
      "Epoch 100/100\n",
      "6/6 [==============================] - 0s 12ms/step - loss: 8.1236e-05 - accuracy: 1.0000 - val_loss: 2.2724 - val_accuracy: 0.6267\n"
     ]
    }
   ],
   "source": [
    "# Replace None as necessary\n",
    "\n",
    "# Fit the model to the training data, using a subset of the\n",
    "# training data as validation data\n",
    "dense_model_results = dense_model.fit(\n",
    "    x=X_train,\n",
    "    y=y_train,\n",
    "    batch_size=20,\n",
    "    epochs=100,\n",
    "    verbose=1,\n",
    "    validation_split=0.4,\n",
    "    shuffle=True\n",
    ")"
   ]
  },
  {
   "cell_type": "code",
   "execution_count": 14,
   "metadata": {
    "nbgrader": {
     "grade": false,
     "grade_id": "cell-0639b5c80e98ab40",
     "locked": true,
     "schema_version": 3,
     "solution": false,
     "task": false
    }
   },
   "outputs": [
    {
     "data": {
      "image/png": "[encoded data removed]",
      "text/plain": [
       "<Figure size 720x360 with 2 Axes>"
      ]
     },
     "metadata": {
      "needs_background": "light"
     },
     "output_type": "display_data"
    }
   ],
   "source": [
    "# Run this cell without changes\n",
    "\n",
    "def plot_loss_and_accuracy(results, final=False):\n",
    "    \n",
    "    if final:\n",
    "        val_label=\"test\"\n",
    "    else:\n",
    "        val_label=\"validation\"\n",
    "\n",
    "    # Extracting metrics from model fitting\n",
    "    train_loss = results.history['loss']\n",
    "    val_loss = results.history['val_loss']\n",
    "    train_accuracy = results.history['accuracy']\n",
    "    val_accuracy = results.history['val_accuracy']\n",
    "\n",
    "    # Setting up plots\n",
    "    fig, (ax1, ax2) = plt.subplots(1, 2, figsize=(10, 5))\n",
    "\n",
    "    # Plotting loss info\n",
    "    ax1.set_title(\"Loss\")\n",
    "    sns.lineplot(x=results.epoch, y=train_loss, ax=ax1, label=\"train\")\n",
    "    sns.lineplot(x=results.epoch, y=val_loss, ax=ax1, label=val_label)\n",
    "    ax1.legend()\n",
    "\n",
    "    # Plotting accuracy info\n",
    "    ax2.set_title(\"Accuracy\")\n",
    "    sns.lineplot(x=results.epoch, y=train_accuracy, ax=ax2, label=\"train\")\n",
    "    sns.lineplot(x=results.epoch, y=val_accuracy, ax=ax2, label=val_label)\n",
    "    ax2.legend()\n",
    "    \n",
    "plot_loss_and_accuracy(dense_model_results)"
   ]
  },
  {
   "cell_type": "markdown",
   "metadata": {
    "nbgrader": {
     "grade": false,
     "grade_id": "cell-3ee94fdb73f6a0bd",
     "locked": true,
     "schema_version": 3,
     "solution": false,
     "task": false
    }
   },
   "source": [
    "## 5) Modify the Code Below to Use Regularization\n",
    "\n",
    "\n",
    "The model appears to be overfitting. To deal with this overfitting, modify the code below to include regularization in the model. You can add L1, L2, both L1 and L2, or dropout regularization.\n",
    "\n",
    "Hint: these might be helpful\n",
    "\n",
    " - [`Dense` layer documentation](https://keras.io/api/layers/core_layers/dense/)\n",
    " - [`regularizers` documentation](https://keras.io/regularizers/)\n",
    " \n",
    "(`EarlyStopping` is a type of regularization that is not applicable to this problem framing, since it's a callback and not a layer.)"
   ]
  },
  {
   "cell_type": "code",
   "execution_count": 35,
   "metadata": {
    "ExecuteTime": {
     "end_time": "2020-11-04T16:48:46.721530Z",
     "start_time": "2020-11-04T16:48:46.715001Z"
    },
    "nbgrader": {
     "grade": false,
     "grade_id": "cell-143a65663b1d4c26",
     "locked": false,
     "schema_version": 3,
     "solution": true,
     "task": false
    }
   },
   "outputs": [
    {
     "name": "stdout",
     "output_type": "stream",
     "text": [
      "Model: \"regularized\"\n",
      "_________________________________________________________________\n",
      "Layer (type)                 Output Shape              Param #   \n",
      "=================================================================\n",
      "dense_30 (Dense)             (None, 64)                19264     \n",
      "_________________________________________________________________\n",
      "dense_31 (Dense)             (None, 64)                4160      \n",
      "_________________________________________________________________\n",
      "dense_32 (Dense)             (None, 64)                4160      \n",
      "_________________________________________________________________\n",
      "dense_33 (Dense)             (None, 1)                 65        \n",
      "=================================================================\n",
      "Total params: 27,649\n",
      "Trainable params: 27,649\n",
      "Non-trainable params: 0\n",
      "_________________________________________________________________\n"
     ]
    }
   ],
   "source": [
    "# Complete the following code\n",
    "\n",
    "def build_model_with_regularization(n_input, n_output, activation, loss):\n",
    "    \"\"\"\n",
    "    Creates and compiles a tf.keras Sequential model with two hidden layers\n",
    "    This time regularization has been added\n",
    "    \"\"\"\n",
    "    # create classifier\n",
    "    classifier = Sequential(name=\"regularized\")\n",
    "\n",
    "    # add input layer\n",
    "    classifier.add(Dense(units=64, input_shape=(n_input,)))\n",
    "\n",
    "    # add hidden layers\n",
    "    classifier.add(Dense(units = 64, kernel_regularizer=regularizers.L1L2(l1=1e-5, l2=1e-4), \n",
    "                         bias_regularizer=regularizers.L2(1e-4), activity_regularizer=regularizers.L2(1e-5)))\n",
    "    classifier.add(Dense(units = 64, kernel_regularizer=regularizers.L1L2(l1=1e-5, l2=1e-4),\n",
    "                         bias_regularizer=regularizers.L2(1e-4), activity_regularizer=regularizers.L2(1e-5)))\n",
    "    \n",
    "    # add output layer\n",
    "    classifier.add(Dense(units= n_output, activation=activation))\n",
    "\n",
    "    classifier.compile(optimizer='adam', loss=loss, metrics=['accuracy'])\n",
    "    return classifier\n",
    "\n",
    "model_with_regularization = build_model_with_regularization(\n",
    "    num_input_nodes, num_output_nodes, activation_function, loss\n",
    ")\n",
    "model_with_regularization.summary()"
   ]
  },
  {
   "cell_type": "code",
   "execution_count": 36,
   "metadata": {
    "ExecuteTime": {
     "end_time": "2020-11-04T16:48:47.310049Z",
     "start_time": "2020-11-04T16:48:47.265185Z"
    },
    "code_folding": [],
    "nbgrader": {
     "grade": true,
     "grade_id": "cell-45429cad9bc0ca12",
     "locked": true,
     "points": 1,
     "schema_version": 3,
     "solution": false,
     "task": false
    }
   },
   "outputs": [
    {
     "data": {
      "text/plain": [
       "1.0"
      ]
     },
     "execution_count": 36,
     "metadata": {},
     "output_type": "execute_result"
    }
   ],
   "source": [
    "# Run the code below without change\n",
    "\n",
    "# Testing function to build model\n",
    "assert type(model_with_regularization) == Sequential\n",
    "\n",
    "def check_regularization(model):\n",
    "    regularization_count = 0\n",
    "    for layer in model.get_config()['layers']:\n",
    "        \n",
    "        # Checking if kernel regularizer was specified\n",
    "        if 'kernel_regularizer' in layer['config']:\n",
    "            if layer['config'].get('kernel_regularizer'):\n",
    "                regularization_count += 1\n",
    "                \n",
    "        # Checking if layer is dropout layer\n",
    "        if layer[\"class_name\"] == \"Dropout\":\n",
    "            regularization_count += 1\n",
    "            \n",
    "    return regularization_count > 0\n",
    "    \n",
    "score = .3\n",
    "\n",
    "if check_regularization(model_with_regularization):\n",
    "    score += .7\n",
    "    \n",
    "score"
   ]
  },
  {
   "cell_type": "markdown",
   "metadata": {
    "nbgrader": {
     "grade": false,
     "grade_id": "cell-b13c2342c3515ca5",
     "locked": true,
     "schema_version": 3,
     "solution": false,
     "task": false
    }
   },
   "source": [
    "Now we'll evaluate the new model on the training set as well:"
   ]
  },
  {
   "cell_type": "code",
   "execution_count": 37,
   "metadata": {
    "nbgrader": {
     "grade": false,
     "grade_id": "cell-87e75ce032ca5468",
     "locked": true,
     "schema_version": 3,
     "solution": false,
     "task": false
    }
   },
   "outputs": [
    {
     "data": {
      "image/png": "[encoded data removed]",
      "text/plain": [
       "<Figure size 720x360 with 2 Axes>"
      ]
     },
     "metadata": {
      "needs_background": "light"
     },
     "output_type": "display_data"
    }
   ],
   "source": [
    "# Run this cell without changes\n",
    "\n",
    "# Fit the model to the training data, using a subset of the\n",
    "# training data as validation data\n",
    "reg_model_results = model_with_regularization.fit(\n",
    "    x=X_train,\n",
    "    y=y_train,\n",
    "    batch_size=None,\n",
    "    epochs=20,\n",
    "    verbose=0,\n",
    "    validation_split=0.4,\n",
    "    shuffle=False\n",
    ")\n",
    "\n",
    "plot_loss_and_accuracy(reg_model_results)"
   ]
  },
  {
   "cell_type": "markdown",
   "metadata": {
    "nbgrader": {
     "grade": false,
     "grade_id": "cell-cdcc2db42e9c92a2",
     "locked": true,
     "schema_version": 3,
     "solution": false,
     "task": false
    }
   },
   "source": [
    "(Whether or not your regularization made a difference will partially depend on how strong of regularization you applied, as well as some random elements of your current TensorFlow configuration.)\n",
    "\n",
    "Now we evaluate both models on the holdout set:"
   ]
  },
  {
   "cell_type": "code",
   "execution_count": 38,
   "metadata": {},
   "outputs": [
    {
     "data": {
      "image/png": "[encoded data removed]",
      "text/plain": [
       "<Figure size 720x360 with 2 Axes>"
      ]
     },
     "metadata": {
      "needs_background": "light"
     },
     "output_type": "display_data"
    }
   ],
   "source": [
    "# Run this cell without changes\n",
    "\n",
    "final_dense_model_results = dense_model.fit(\n",
    "    x=X_train,\n",
    "    y=y_train,\n",
    "    batch_size=None,\n",
    "    epochs=20,\n",
    "    verbose=0,\n",
    "    validation_data=(X_test, y_test),\n",
    "    shuffle=False\n",
    ")\n",
    "\n",
    "plot_loss_and_accuracy(final_dense_model_results, final=True)"
   ]
  },
  {
   "cell_type": "markdown",
   "metadata": {},
   "source": [
    "Plot the loss and accuracy your final regularized model."
   ]
  },
  {
   "cell_type": "code",
   "execution_count": 39,
   "metadata": {},
   "outputs": [
    {
     "data": {
      "image/png": "[encoded data removed]",
      "text/plain": [
       "<Figure size 720x360 with 2 Axes>"
      ]
     },
     "metadata": {
      "needs_background": "light"
     },
     "output_type": "display_data"
    }
   ],
   "source": [
    "# Replace None, as necessary\n",
    "\n",
    "final_reg_model_results = model_with_regularization.fit(\n",
    "    x=X_train,\n",
    "    y=y_train,\n",
    "    batch_size=None,\n",
    "    epochs=20,\n",
    "    verbose=0,\n",
    "    validation_data=(X_test, y_test),\n",
    "    shuffle=False\n",
    ")\n",
    "\n",
    "plot_loss_and_accuracy(final_reg_model_results, final=True)"
   ]
  },
  {
   "cell_type": "code",
   "execution_count": null,
   "metadata": {},
   "outputs": [],
   "source": []
  }
 ],
 "metadata": {
  "celltoolbar": "Create Assignment",
  "kernelspec": {
   "display_name": "Python 3",
   "language": "python",
   "name": "python3"
  },
  "language_info": {
   "codemirror_mode": {
    "name": "ipython",
    "version": 3
   },
   "file_extension": ".py",
   "mimetype": "text/x-python",
   "name": "python",
   "nbconvert_exporter": "python",
   "pygments_lexer": "ipython3",
   "version": "3.8.5"
  },
  "toc": {
   "base_numbering": 1,
   "nav_menu": {},
   "number_sections": false,
   "sideBar": true,
   "skip_h1_title": true,
   "title_cell": "Table of Contents",
   "title_sidebar": "Contents",
   "toc_cell": false,
   "toc_position": {},
   "toc_section_display": true,
   "toc_window_display": false
  },
  "varInspector": {
   "cols": {
    "lenName": 16,
    "lenType": 16,
    "lenVar": 40
   },
   "kernels_config": {
    "python": {
     "delete_cmd_postfix": "",
     "delete_cmd_prefix": "del ",
     "library": "var_list.py",
     "varRefreshCmd": "print(var_dic_list())"
    },
    "r": {
     "delete_cmd_postfix": ") ",
     "delete_cmd_prefix": "rm(",
     "library": "var_list.r",
     "varRefreshCmd": "cat(var_dic_list()) "
    }
   },
   "types_to_exclude": [
    "module",
    "function",
    "builtin_function_or_method",
    "instance",
    "_Feature"
   ],
   "window_display": false
  }
 },
 "nbformat": 4,
 "nbformat_minor": 4
}
